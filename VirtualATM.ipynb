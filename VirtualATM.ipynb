{
  "nbformat": 4,
  "nbformat_minor": 0,
  "metadata": {
    "kernelspec": {
      "display_name": "Python 3",
      "language": "python",
      "name": "python3"
    },
    "language_info": {
      "codemirror_mode": {
        "name": "ipython",
        "version": 3
      },
      "file_extension": ".py",
      "mimetype": "text/x-python",
      "name": "python",
      "nbconvert_exporter": "python",
      "pygments_lexer": "ipython3",
      "version": "3.8.3"
    },
    "colab": {
      "name": "Lab1_Soln.ipynb",
      "provenance": [],
      "collapsed_sections": []
    }
  },
  "cells": [
    {
      "cell_type": "code",
      "metadata": {
        "id": "hbVAutvP7ftZ",
        "colab": {
          "base_uri": "https://localhost:8080/"
        },
        "outputId": "0c7faed7-e3ae-46ae-ba12-83d5772dec95"
      },
      "source": [
        "\n",
        "# By: Moe Kurdi\n",
        "\n",
        "amount = int(input('Enter whole dollar amount (1 - 99): ')) # Amount of money remaining to be dispensed\n",
        "\n",
        "twenties = amount // 20 # How many 20s?\n",
        "amount = amount % 20    # What's left?\n",
        "tens = amount // 10     # How many 10s\n",
        "amount = amount % 10    # What's left?\n",
        "fives = amount // 5     # How many 5s?\n",
        "ones = amount % 5       # How many 1s?\n",
        "\n",
        "# Dispense virtual bills (if there are any for each denomination)\n",
        "print('\\nDispense:')\n",
        "if twenties > 0:\n",
        "    print(twenties, 'twenties')\n",
        "if tens > 0:\n",
        "    print(tens, 'tens')\n",
        "if fives > 0:\n",
        "    print(fives, 'fives')\n",
        "if ones > 0:\n",
        "    print(ones, 'ones')"
      ],
      "execution_count": 2,
      "outputs": [
        {
          "output_type": "stream",
          "name": "stdout",
          "text": [
            "Welcome to the CIS 443 Virtual ATM\n",
            "Enter whole dollar amount (1 - 99): 10\n",
            "\n",
            "Dispense:\n",
            "1 tens\n"
          ]
        }
      ]
    }
  ]
}