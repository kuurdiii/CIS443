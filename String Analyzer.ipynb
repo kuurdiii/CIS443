{
  "nbformat": 4,
  "nbformat_minor": 0,
  "metadata": {
    "kernelspec": {
      "display_name": "Python 3",
      "language": "python",
      "name": "python3"
    },
    "language_info": {
      "codemirror_mode": {
        "name": "ipython",
        "version": 3
      },
      "file_extension": ".py",
      "mimetype": "text/x-python",
      "name": "python",
      "nbconvert_exporter": "python",
      "pygments_lexer": "ipython3",
      "version": "3.8.3"
    },
    "colab": {
      "name": "Lab6_Soln.ipynb",
      "provenance": [],
      "collapsed_sections": []
    }
  },
  "cells": [
    {
      "cell_type": "code",
      "metadata": {
        "id": "8cS_2x47vEty",
        "colab": {
          "base_uri": "https://localhost:8080/"
        },
        "outputId": "aae6cb64-0c04-4784-8791-80e94122c4fd"
      },
      "source": [
        "# By: Moe Kurdi\n",
        "from string import ascii_lowercase\n",
        "\n",
        "def summarize_letters(s):\n",
        "    '''Displays a summary of the frequency counts of the letters in s'''\n",
        "    \n",
        "    letter_counts = {} # Dictionary of letters and associated counts\n",
        "    ord_a = ord('a')   # Ordinal of lowest alpha\n",
        "    ord_z = ord('z')   # Ordinal of highest alpha\n",
        "    \n",
        "    for letter in s.lower():\n",
        "        if ord_a <= ord(letter) <= ord_z: # Must be alpha letter\n",
        "            if letter in letter_counts: # Already appeared, increment count\n",
        "                letter_counts[letter] += 1\n",
        "            else: # First time letter appears, so append it and start counter at 1\n",
        "                letter_counts[letter] = 1\n",
        "\n",
        "    print('\\nLetter Frequency')\n",
        "    print('------ ---------')\n",
        "    for letter, count in sorted(letter_counts.items()): # Unpack each item\n",
        "        print(f'{letter:^6} {count:5}')\n",
        "    \n",
        "    alphabet = set(ascii_lowercase) \n",
        "\n",
        "    missing_letters = alphabet - set(letter_counts.keys()) # Use set difference to find missing letters\n",
        "    \n",
        "    print('The missing letters are:', end=' ')\n",
        "    for letter in sorted(missing_letters):\n",
        "        print(letter, end='')\n",
        "\n",
        "# Application logic\n",
        "string = input('Enter a string to be analyzed: ')\n",
        "summarize_letters(string)"
      ],
      "execution_count": 1,
      "outputs": [
        {
          "output_type": "stream",
          "name": "stdout",
          "text": [
            "Enter a string to be analyzed: This is A STring of text\n",
            "\n",
            "Letter Frequency\n",
            "------ ---------\n",
            "  a        1\n",
            "  e        1\n",
            "  f        1\n",
            "  g        1\n",
            "  h        1\n",
            "  i        3\n",
            "  n        1\n",
            "  o        1\n",
            "  r        1\n",
            "  s        3\n",
            "  t        4\n",
            "  x        1\n",
            "The missing letters are: bcdjklmpquvwyz"
          ]
        }
      ]
    }
  ]
}